{
 "cells": [
  {
   "cell_type": "code",
   "execution_count": 1,
   "id": "fd5a7015",
   "metadata": {},
   "outputs": [],
   "source": [
    "import pandas as pd"
   ]
  },
  {
   "cell_type": "code",
   "execution_count": 2,
   "id": "7c93038c",
   "metadata": {},
   "outputs": [
    {
     "data": {
      "text/plain": [
       "'2.2.3'"
      ]
     },
     "execution_count": 2,
     "metadata": {},
     "output_type": "execute_result"
    }
   ],
   "source": [
    "pd.__version__"
   ]
  },
  {
   "cell_type": "code",
   "execution_count": 3,
   "id": "118f65fe",
   "metadata": {},
   "outputs": [],
   "source": [
    "DF1 = pd.read_csv('PII.csv')"
   ]
  },
  {
   "cell_type": "code",
   "execution_count": 4,
   "id": "567733c4",
   "metadata": {},
   "outputs": [
    {
     "data": {
      "text/plain": [
       "pandas.core.frame.DataFrame"
      ]
     },
     "execution_count": 4,
     "metadata": {},
     "output_type": "execute_result"
    }
   ],
   "source": [
    "type(DF1)"
   ]
  },
  {
   "cell_type": "code",
   "execution_count": 5,
   "id": "a815c1d6",
   "metadata": {},
   "outputs": [
    {
     "data": {
      "text/html": [
       "<div>\n",
       "<style scoped>\n",
       "    .dataframe tbody tr th:only-of-type {\n",
       "        vertical-align: middle;\n",
       "    }\n",
       "\n",
       "    .dataframe tbody tr th {\n",
       "        vertical-align: top;\n",
       "    }\n",
       "\n",
       "    .dataframe thead th {\n",
       "        text-align: right;\n",
       "    }\n",
       "</style>\n",
       "<table border=\"1\" class=\"dataframe\">\n",
       "  <thead>\n",
       "    <tr style=\"text-align: right;\">\n",
       "      <th></th>\n",
       "      <th>Name</th>\n",
       "      <th>Gender</th>\n",
       "      <th>Age</th>\n",
       "      <th>Grade</th>\n",
       "      <th>Picture</th>\n",
       "      <th>BloodType</th>\n",
       "      <th>Height</th>\n",
       "      <th>Weight</th>\n",
       "    </tr>\n",
       "  </thead>\n",
       "  <tbody>\n",
       "    <tr>\n",
       "      <th>0</th>\n",
       "      <td>송태섭</td>\n",
       "      <td>남자</td>\n",
       "      <td>21</td>\n",
       "      <td>3</td>\n",
       "      <td>무</td>\n",
       "      <td>B</td>\n",
       "      <td>179.1</td>\n",
       "      <td>63.9</td>\n",
       "    </tr>\n",
       "    <tr>\n",
       "      <th>1</th>\n",
       "      <td>최유정</td>\n",
       "      <td>여자</td>\n",
       "      <td>23</td>\n",
       "      <td>1</td>\n",
       "      <td>유</td>\n",
       "      <td>A</td>\n",
       "      <td>177.1</td>\n",
       "      <td>54.9</td>\n",
       "    </tr>\n",
       "    <tr>\n",
       "      <th>2</th>\n",
       "      <td>이한나</td>\n",
       "      <td>여자</td>\n",
       "      <td>20</td>\n",
       "      <td>1</td>\n",
       "      <td>무</td>\n",
       "      <td>A</td>\n",
       "      <td>167.9</td>\n",
       "      <td>50.2</td>\n",
       "    </tr>\n",
       "    <tr>\n",
       "      <th>3</th>\n",
       "      <td>김소혜</td>\n",
       "      <td>여자</td>\n",
       "      <td>23</td>\n",
       "      <td>3</td>\n",
       "      <td>무</td>\n",
       "      <td>O</td>\n",
       "      <td>176.1</td>\n",
       "      <td>53.5</td>\n",
       "    </tr>\n",
       "    <tr>\n",
       "      <th>4</th>\n",
       "      <td>서태웅</td>\n",
       "      <td>남자</td>\n",
       "      <td>24</td>\n",
       "      <td>4</td>\n",
       "      <td>무</td>\n",
       "      <td>B</td>\n",
       "      <td>176.1</td>\n",
       "      <td>79.8</td>\n",
       "    </tr>\n",
       "    <tr>\n",
       "      <th>5</th>\n",
       "      <td>정대만</td>\n",
       "      <td>남자</td>\n",
       "      <td>24</td>\n",
       "      <td>2</td>\n",
       "      <td>유</td>\n",
       "      <td>B</td>\n",
       "      <td>175.2</td>\n",
       "      <td>61.7</td>\n",
       "    </tr>\n",
       "    <tr>\n",
       "      <th>6</th>\n",
       "      <td>이정환</td>\n",
       "      <td>남자</td>\n",
       "      <td>22</td>\n",
       "      <td>4</td>\n",
       "      <td>무</td>\n",
       "      <td>B</td>\n",
       "      <td>169.1</td>\n",
       "      <td>69.8</td>\n",
       "    </tr>\n",
       "    <tr>\n",
       "      <th>7</th>\n",
       "      <td>채소연</td>\n",
       "      <td>여자</td>\n",
       "      <td>22</td>\n",
       "      <td>2</td>\n",
       "      <td>유</td>\n",
       "      <td>AB</td>\n",
       "      <td>169.9</td>\n",
       "      <td>52.7</td>\n",
       "    </tr>\n",
       "    <tr>\n",
       "      <th>8</th>\n",
       "      <td>강백호</td>\n",
       "      <td>남자</td>\n",
       "      <td>23</td>\n",
       "      <td>3</td>\n",
       "      <td>무</td>\n",
       "      <td>O</td>\n",
       "      <td>165.5</td>\n",
       "      <td>68.5</td>\n",
       "    </tr>\n",
       "    <tr>\n",
       "      <th>9</th>\n",
       "      <td>전소미</td>\n",
       "      <td>여자</td>\n",
       "      <td>22</td>\n",
       "      <td>2</td>\n",
       "      <td>유</td>\n",
       "      <td>O</td>\n",
       "      <td>161.9</td>\n",
       "      <td>52.3</td>\n",
       "    </tr>\n",
       "    <tr>\n",
       "      <th>10</th>\n",
       "      <td>변덕규</td>\n",
       "      <td>남자</td>\n",
       "      <td>21</td>\n",
       "      <td>1</td>\n",
       "      <td>무</td>\n",
       "      <td>A</td>\n",
       "      <td>163.2</td>\n",
       "      <td>55.5</td>\n",
       "    </tr>\n",
       "    <tr>\n",
       "      <th>11</th>\n",
       "      <td>정채연</td>\n",
       "      <td>여자</td>\n",
       "      <td>22</td>\n",
       "      <td>2</td>\n",
       "      <td>무</td>\n",
       "      <td>B</td>\n",
       "      <td>157.8</td>\n",
       "      <td>44.9</td>\n",
       "    </tr>\n",
       "    <tr>\n",
       "      <th>12</th>\n",
       "      <td>권준호</td>\n",
       "      <td>남자</td>\n",
       "      <td>24</td>\n",
       "      <td>4</td>\n",
       "      <td>유</td>\n",
       "      <td>O</td>\n",
       "      <td>166.9</td>\n",
       "      <td>61.7</td>\n",
       "    </tr>\n",
       "    <tr>\n",
       "      <th>13</th>\n",
       "      <td>채치수</td>\n",
       "      <td>남자</td>\n",
       "      <td>23</td>\n",
       "      <td>3</td>\n",
       "      <td>무</td>\n",
       "      <td>AB</td>\n",
       "      <td>181.8</td>\n",
       "      <td>85.9</td>\n",
       "    </tr>\n",
       "    <tr>\n",
       "      <th>14</th>\n",
       "      <td>윤대협</td>\n",
       "      <td>남자</td>\n",
       "      <td>22</td>\n",
       "      <td>2</td>\n",
       "      <td>유</td>\n",
       "      <td>AB</td>\n",
       "      <td>180.3</td>\n",
       "      <td>76.2</td>\n",
       "    </tr>\n",
       "    <tr>\n",
       "      <th>15</th>\n",
       "      <td>김세정</td>\n",
       "      <td>여자</td>\n",
       "      <td>21</td>\n",
       "      <td>1</td>\n",
       "      <td>무</td>\n",
       "      <td>O</td>\n",
       "      <td>155.5</td>\n",
       "      <td>44.9</td>\n",
       "    </tr>\n",
       "    <tr>\n",
       "      <th>16</th>\n",
       "      <td>신준섭</td>\n",
       "      <td>남자</td>\n",
       "      <td>23</td>\n",
       "      <td>1</td>\n",
       "      <td>무</td>\n",
       "      <td>A</td>\n",
       "      <td>168.9</td>\n",
       "      <td>62.7</td>\n",
       "    </tr>\n",
       "  </tbody>\n",
       "</table>\n",
       "</div>"
      ],
      "text/plain": [
       "   Name Gender  Age  Grade Picture BloodType  Height  Weight\n",
       "0   송태섭     남자   21      3       무         B   179.1    63.9\n",
       "1   최유정     여자   23      1       유         A   177.1    54.9\n",
       "2   이한나     여자   20      1       무         A   167.9    50.2\n",
       "3   김소혜     여자   23      3       무         O   176.1    53.5\n",
       "4   서태웅     남자   24      4       무         B   176.1    79.8\n",
       "5   정대만     남자   24      2       유         B   175.2    61.7\n",
       "6   이정환     남자   22      4       무         B   169.1    69.8\n",
       "7   채소연     여자   22      2       유        AB   169.9    52.7\n",
       "8   강백호     남자   23      3       무         O   165.5    68.5\n",
       "9   전소미     여자   22      2       유         O   161.9    52.3\n",
       "10  변덕규     남자   21      1       무         A   163.2    55.5\n",
       "11  정채연     여자   22      2       무         B   157.8    44.9\n",
       "12  권준호     남자   24      4       유         O   166.9    61.7\n",
       "13  채치수     남자   23      3       무        AB   181.8    85.9\n",
       "14  윤대협     남자   22      2       유        AB   180.3    76.2\n",
       "15  김세정     여자   21      1       무         O   155.5    44.9\n",
       "16  신준섭     남자   23      1       무         A   168.9    62.7"
      ]
     },
     "execution_count": 5,
     "metadata": {},
     "output_type": "execute_result"
    }
   ],
   "source": [
    "DF1"
   ]
  },
  {
   "cell_type": "code",
   "execution_count": 7,
   "id": "4cb7db4c",
   "metadata": {},
   "outputs": [],
   "source": [
    "import pandas as pd"
   ]
  },
  {
   "cell_type": "code",
   "execution_count": 9,
   "id": "82513624",
   "metadata": {},
   "outputs": [],
   "source": [
    "df = pd.read_csv('PII.csv')"
   ]
  },
  {
   "cell_type": "code",
   "execution_count": 11,
   "id": "bb48fb9a",
   "metadata": {},
   "outputs": [
    {
     "name": "stdout",
     "output_type": "stream",
     "text": [
      "<class 'pandas.core.frame.DataFrame'>\n"
     ]
    }
   ],
   "source": [
    "print(type(df))"
   ]
  },
  {
   "cell_type": "code",
   "execution_count": 10,
   "id": "1e671223",
   "metadata": {},
   "outputs": [
    {
     "name": "stdout",
     "output_type": "stream",
     "text": [
      "  Name Gender  Age  Grade Picture BloodType  Height  Weight\n",
      "0  송태섭     남자   21      3       무         B   179.1    63.9\n",
      "1  최유정     여자   23      1       유         A   177.1    54.9\n",
      "2  이한나     여자   20      1       무         A   167.9    50.2\n",
      "3  김소혜     여자   23      3       무         O   176.1    53.5\n",
      "4  서태웅     남자   24      4       무         B   176.1    79.8\n",
      "Index(['Name', 'Gender', 'Age', 'Grade', 'Picture', 'BloodType', 'Height',\n",
      "       'Weight'],\n",
      "      dtype='object')\n",
      "<class 'pandas.core.frame.DataFrame'>\n",
      "RangeIndex: 17 entries, 0 to 16\n",
      "Data columns (total 8 columns):\n",
      " #   Column     Non-Null Count  Dtype  \n",
      "---  ------     --------------  -----  \n",
      " 0   Name       17 non-null     object \n",
      " 1   Gender     17 non-null     object \n",
      " 2   Age        17 non-null     int64  \n",
      " 3   Grade      17 non-null     int64  \n",
      " 4   Picture    17 non-null     object \n",
      " 5   BloodType  17 non-null     object \n",
      " 6   Height     17 non-null     float64\n",
      " 7   Weight     17 non-null     float64\n",
      "dtypes: float64(2), int64(2), object(4)\n",
      "memory usage: 1.2+ KB\n",
      "None\n"
     ]
    }
   ],
   "source": [
    "print(df.head())      # 처음 5줄 보기\n",
    "print(df.columns)     # 컬럼명 확인\n",
    "print(df.info())      # 데이터 타입, 결측값 확인"
   ]
  },
  {
   "cell_type": "code",
   "execution_count": 12,
   "id": "0024f161",
   "metadata": {},
   "outputs": [
    {
     "name": "stdout",
     "output_type": "stream",
     "text": [
      "Gender\n",
      "남자    172.61\n",
      "여자    166.60\n",
      "Name: Height, dtype: float64\n"
     ]
    }
   ],
   "source": [
    "gender_height_mean = df.groupby('Gender')['Height'].mean()\n",
    "print(gender_height_mean)"
   ]
  },
  {
   "cell_type": "code",
   "execution_count": 13,
   "id": "a66fdb46",
   "metadata": {},
   "outputs": [],
   "source": [
    "import pandas as pd\n",
    "import numpy as np"
   ]
  },
  {
   "cell_type": "markdown",
   "id": "b9baceaf",
   "metadata": {},
   "source": []
  },
  {
   "cell_type": "code",
   "execution_count": 14,
   "id": "f3cf1f35",
   "metadata": {},
   "outputs": [],
   "source": [
    "height_cm = df['Height'].to_numpy()\n",
    "weight_kg = df['Weight'].to_numpy()"
   ]
  },
  {
   "cell_type": "code",
   "execution_count": 19,
   "id": "3fae16ca",
   "metadata": {},
   "outputs": [
    {
     "name": "stdout",
     "output_type": "stream",
     "text": [
      "[63.9 54.9 50.2 53.5 79.8 61.7 69.8 52.7 68.5 52.3 55.5 44.9 61.7 85.9\n",
      " 76.2 44.9 62.7]\n"
     ]
    }
   ],
   "source": [
    "print(weight_kg)"
   ]
  },
  {
   "cell_type": "code",
   "execution_count": 15,
   "id": "50c684f4",
   "metadata": {},
   "outputs": [],
   "source": [
    "height_m = height_cm / 100"
   ]
  },
  {
   "cell_type": "code",
   "execution_count": 20,
   "id": "c29f4b81",
   "metadata": {},
   "outputs": [
    {
     "name": "stdout",
     "output_type": "stream",
     "text": [
      "[1.791 1.771 1.679 1.761 1.761 1.752 1.691 1.699 1.655 1.619 1.632 1.578\n",
      " 1.669 1.818 1.803 1.555 1.689]\n"
     ]
    }
   ],
   "source": [
    "print(height_m)"
   ]
  },
  {
   "cell_type": "code",
   "execution_count": 16,
   "id": "a0a52713",
   "metadata": {},
   "outputs": [],
   "source": [
    "bmi = weight_kg / (height_m ** 2)"
   ]
  },
  {
   "cell_type": "code",
   "execution_count": 21,
   "id": "5e6011ea",
   "metadata": {},
   "outputs": [
    {
     "name": "stdout",
     "output_type": "stream",
     "text": [
      "[19.92093353 17.50391606 17.80747424 17.25182603 25.73263023 20.10096745\n",
      " 24.41002406 18.25676635 25.00889915 19.9529903  20.83783881 18.03152022\n",
      " 22.14993676 25.98994773 23.44031901 18.56887336 21.97901582]\n"
     ]
    }
   ],
   "source": [
    "print(bmi)"
   ]
  },
  {
   "cell_type": "code",
   "execution_count": 22,
   "id": "ab12a45a",
   "metadata": {},
   "outputs": [
    {
     "name": "stdout",
     "output_type": "stream",
     "text": [
      "[19.92 17.5  17.81 17.25 25.73 20.1  24.41 18.26 25.01 19.95 20.84 18.03\n",
      " 22.15 25.99 23.44 18.57 21.98]\n"
     ]
    }
   ],
   "source": [
    "print(np.round(bmi, 2))"
   ]
  },
  {
   "cell_type": "code",
   "execution_count": 23,
   "id": "d5c00fcb",
   "metadata": {},
   "outputs": [
    {
     "name": "stdout",
     "output_type": "stream",
     "text": [
      "4    서태웅\n",
      "Name: Name, dtype: object\n"
     ]
    }
   ],
   "source": [
    "filtered_df = df[(df['BloodType'] == 'B') & (df['Weight'] >= 70)]\n",
    "print(filtered_df['Name'])"
   ]
  },
  {
   "cell_type": "code",
   "execution_count": 31,
   "id": "cff689c8",
   "metadata": {},
   "outputs": [],
   "source": [
    "import matplotlib.pyplot as plt\n",
    "import matplotlib.font_manager as fm\n",
    "\n",
    "# ① 시스템에 설치된 한글 폰트 중 하나 선택 (예: 맑은 고딕)\n",
    "plt.rcParams['font.family'] = 'Malgun Gothic'\n",
    "\n",
    "# ② 마이너스 기호 깨짐 방지\n",
    "plt.rcParams['axes.unicode_minus'] = False"
   ]
  },
  {
   "cell_type": "code",
   "execution_count": 32,
   "id": "d224dfad",
   "metadata": {},
   "outputs": [],
   "source": [
    "import pandas as pd\n",
    "import matplotlib.pyplot as plt"
   ]
  },
  {
   "cell_type": "code",
   "execution_count": 33,
   "id": "e51a3d60",
   "metadata": {},
   "outputs": [],
   "source": [
    "gender_weight_mean = df.groupby('Gender')['Weight'].mean()"
   ]
  },
  {
   "cell_type": "code",
   "execution_count": 40,
   "id": "6f55a3cb",
   "metadata": {},
   "outputs": [
    {
     "data": {
      "text/plain": [
       "Text(0, 0.5, '평균 몸무게 (kg)')"
      ]
     },
     "execution_count": 40,
     "metadata": {},
     "output_type": "execute_result"
    },
    {
     "data": {
      "image/png": "[encoded data removed]",
      "text/plain": [
       "<Figure size 640x480 with 1 Axes>"
      ]
     },
     "metadata": {},
     "output_type": "display_data"
    }
   ],
   "source": [
    "gender_weight_mean.plot(kind='bar', color='skyblue', edgecolor='black')\n",
    "plt.title('성별 평균 몸무게')\n",
    "plt.xlabel('성별')\n",
    "plt.ylabel('평균 몸무게 (kg)')"
   ]
  },
  {
   "cell_type": "code",
   "execution_count": 41,
   "id": "75752ca1",
   "metadata": {},
   "outputs": [],
   "source": [
    "import matplotlib.pyplot as plt"
   ]
  },
  {
   "cell_type": "code",
   "execution_count": 42,
   "id": "2824b700",
   "metadata": {},
   "outputs": [],
   "source": [
    "grade_counts = df['Grade'].value_counts().sort_index()"
   ]
  },
  {
   "cell_type": "code",
   "execution_count": 44,
   "id": "df807eb9",
   "metadata": {},
   "outputs": [
    {
     "data": {
      "text/plain": [
       "([<matplotlib.patches.Wedge at 0x295601ed310>,\n",
       "  <matplotlib.patches.Wedge at 0x295603e3390>,\n",
       "  <matplotlib.patches.Wedge at 0x295603e3750>,\n",
       "  <matplotlib.patches.Wedge at 0x295603e3b10>],\n",
       " [Text(0.6628980651351103, 0.8778189763499803, '1학년'),\n",
       "  Text(-1.0257194997154064, 0.3973657105281941, '2학년'),\n",
       "  Text(-0.3010291881758296, -1.058008236199606, '3학년'),\n",
       "  Text(0.9352390471946412, -0.5790750595583097, '4학년')],\n",
       " [Text(0.3615807628009692, 0.4788103507363528, '29.4%'),\n",
       "  Text(-0.5594833634811307, 0.21674493301537856, '29.4%'),\n",
       "  Text(-0.16419773900499793, -0.5770954015634214, '23.5%'),\n",
       "  Text(0.5101303893788951, -0.31585912339544164, '17.6%')])"
      ]
     },
     "execution_count": 44,
     "metadata": {},
     "output_type": "execute_result"
    },
    {
     "data": {
      "image/png": "[encoded data removed]",
      "text/plain": [
       "<Figure size 640x480 with 1 Axes>"
      ]
     },
     "metadata": {},
     "output_type": "display_data"
    }
   ],
   "source": [
    "plt.pie(grade_counts,\n",
    "        labels=grade_counts.index.astype(str) + '학년',\n",
    "        autopct='%1.1f%%',\n",
    "        colors=plt.cm.Pastel1.colors)"
   ]
  },
  {
   "cell_type": "code",
   "execution_count": 1,
   "id": "78e0d111",
   "metadata": {},
   "outputs": [
    {
     "name": "stdout",
     "output_type": "stream",
     "text": [
      "[1, 4, 9, 16, 25]\n"
     ]
    }
   ],
   "source": [
    "# 정수 리스트\n",
    "numbers = [1, 2, 3, 4, 5]\n",
    "\n",
    "# 람다 함수와 map 함수를 이용해 제곱 리스트 생성\n",
    "squared_numbers = list(map(lambda x: x ** 2, numbers))\n",
    "\n",
    "# 결과 출력\n",
    "print(squared_numbers)"
   ]
  },
  {
   "cell_type": "code",
   "execution_count": 2,
   "id": "58ff5b05",
   "metadata": {},
   "outputs": [
    {
     "name": "stdout",
     "output_type": "stream",
     "text": [
      "[1, 4, 9, 16, 25]\n"
     ]
    }
   ],
   "source": [
    "numbers = [1, 2, 3, 4, 5]\n",
    "squared_numbers = list(map(lambda x: x ** 2, numbers))\n",
    "print(squared_numbers)"
   ]
  },
  {
   "cell_type": "code",
   "execution_count": 3,
   "id": "b6eb8119",
   "metadata": {},
   "outputs": [
    {
     "name": "stdout",
     "output_type": "stream",
     "text": [
      "[ 1  4  9 16 25]\n"
     ]
    }
   ],
   "source": [
    "import numpy as np\n",
    "arr = np.array([1, 2, 3, 4, 5])\n",
    "squared = arr ** 2\n",
    "print(squared)"
   ]
  },
  {
   "cell_type": "code",
   "execution_count": 4,
   "id": "41e84b44",
   "metadata": {},
   "outputs": [
    {
     "name": "stdout",
     "output_type": "stream",
     "text": [
      "   이름  점수\n",
      "0  영희  85\n",
      "1  철수  90\n"
     ]
    }
   ],
   "source": [
    "import pandas as pd\n",
    "data = {'이름': ['영희', '철수', '민수'], '점수': [85, 90, 78]}\n",
    "df = pd.DataFrame(data)\n",
    "print(df[df['점수'] >= 80])"
   ]
  },
  {
   "cell_type": "code",
   "execution_count": 2,
   "id": "0bd3939e",
   "metadata": {},
   "outputs": [
    {
     "name": "stdout",
     "output_type": "stream",
     "text": [
      "--- 원본 데이터 ---\n",
      "[[ 3000     3]\n",
      " [ 7000     7]\n",
      " [12000    12]]\n",
      "\n",
      "--- StandardScaler 적용 후 데이터 ---\n",
      "[[-1.1769647  -1.1769647 ]\n",
      " [-0.09053575 -0.09053575]\n",
      " [ 1.26750044  1.26750044]]\n"
     ]
    }
   ],
   "source": [
    "from sklearn.preprocessing import StandardScaler\n",
    "import numpy as np\n",
    "\n",
    "# 원본 데이터: [연봉, 근무연수]\n",
    "original_data = np.array([[3000, 3],\n",
    "                          [7000, 7],\n",
    "                          [12000, 12]])\n",
    "\n",
    "print(\"--- 원본 데이터 ---\")\n",
    "print(original_data)\n",
    "\n",
    "# StandardScaler 객체 생성\n",
    "scaler = StandardScaler()\n",
    "\n",
    "# 데이터 변환 (평균을 0, 표준편차를 1로)\n",
    "scaled_data = scaler.fit_transform(original_data)\n",
    "\n",
    "print(\"\\n--- StandardScaler 적용 후 데이터 ---\")\n",
    "print(scaled_data)"
   ]
  },
  {
   "cell_type": "code",
   "execution_count": null,
   "id": "31c60668",
   "metadata": {},
   "outputs": [],
   "source": [
    "import tkinter as tk\n",
    "\n",
    "# 1. 창 생성\n",
    "root = tk.Tk()\n",
    "root.title(\"간단한 버튼 예제\")\n",
    "\n",
    "# 2. 버튼 이벤트 함수 정의\n",
    "def on_button_click():\n",
    "    print(\"버튼이 클릭되었습니다!\")\n",
    "\n",
    "# 3. 버튼 추가 및 이벤트 연결\n",
    "button = tk.Button(root, text=\"클릭하세요\", command=on_button_click)\n",
    "button.pack()\n",
    "\n",
    "# 4. 이벤트 루프 시작\n",
    "root.mainloop()"
   ]
  }
 ],
 "metadata": {
  "kernelspec": {
   "display_name": "data_env",
   "language": "python",
   "name": "python3"
  },
  "language_info": {
   "codemirror_mode": {
    "name": "ipython",
    "version": 3
   },
   "file_extension": ".py",
   "mimetype": "text/x-python",
   "name": "python",
   "nbconvert_exporter": "python",
   "pygments_lexer": "ipython3",
   "version": "3.13.3"
  }
 },
 "nbformat": 4,
 "nbformat_minor": 5
}
